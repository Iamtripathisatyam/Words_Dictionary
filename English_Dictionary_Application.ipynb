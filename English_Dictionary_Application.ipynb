{
 "cells": [
  {
   "cell_type": "markdown",
   "id": "1e53c39c",
   "metadata": {},
   "source": [
    "## ENGLISH DICTIONARY APPLICATION\n",
    "_________________________"
   ]
  },
  {
   "cell_type": "markdown",
   "id": "2423f575",
   "metadata": {},
   "source": [
    "* Let's see a simple Web Application made by using Python Programming Language.\n",
    "* It takes a word from the user and returns its definition from the **ebooks.json** file.\n",
    "* It also gives best-matched word when the user enters the word with the wrong spelling."
   ]
  },
  {
   "cell_type": "markdown",
   "id": "834d7926",
   "metadata": {},
   "source": [
    "**To run this python script follow the below installation**\n",
    "\n",
    "     ~ pip install pywebio"
   ]
  },
  {
   "cell_type": "markdown",
   "id": "85ccf7cb",
   "metadata": {},
   "source": [
    "### Step #1:\n",
    "import following **modules**"
   ]
  },
  {
   "cell_type": "code",
   "execution_count": null,
   "id": "1e9df124",
   "metadata": {},
   "outputs": [],
   "source": [
    "import os\n",
    "import re\n",
    "import json\n",
    "import time\n",
    "import os.path\n",
    "from pywebio.input import *\n",
    "from pywebio.output import *\n",
    "from pywebio.session import *\n",
    "from difflib import get_close_matches"
   ]
  },
  {
   "cell_type": "markdown",
   "id": "7f905981",
   "metadata": {},
   "source": [
    "### Step #2:"
   ]
  },
  {
   "cell_type": "markdown",
   "id": "d86c9663",
   "metadata": {},
   "source": [
    "* Load the JSON data"
   ]
  },
  {
   "cell_type": "code",
   "execution_count": null,
   "id": "f7977580",
   "metadata": {},
   "outputs": [],
   "source": [
    "book = json.load(open(r\"C:\\Users\\Dell\\Downloads\\ebooks.json\"))"
   ]
  },
  {
   "cell_type": "markdown",
   "id": "ce453386",
   "metadata": {},
   "source": [
    "* Regex for checking **User's Email**, whether valid or not."
   ]
  },
  {
   "cell_type": "code",
   "execution_count": null,
   "id": "950add1f",
   "metadata": {},
   "outputs": [],
   "source": [
    "regex = '^(\\w|\\.|\\_|\\-)+[@](\\w|\\_|\\-|\\.)+[.]\\w{2,3}$'"
   ]
  },
  {
   "cell_type": "markdown",
   "id": "bc56bd65",
   "metadata": {},
   "source": [
    "* Regex for checking **User's Phone**, whether valid or not."
   ]
  },
  {
   "cell_type": "code",
   "execution_count": null,
   "id": "a14627b7",
   "metadata": {},
   "outputs": [],
   "source": [
    "Pattern = re.compile(\"(0/91)?[6-9][0-9]{9}\")"
   ]
  },
  {
   "cell_type": "markdown",
   "id": "02783cc0",
   "metadata": {},
   "source": [
    "* Regex for  checking **User's URL**, whether valid or not."
   ]
  },
  {
   "cell_type": "code",
   "execution_count": null,
   "id": "489fb609",
   "metadata": {},
   "outputs": [],
   "source": [
    "regex_1 = (\"((http|https)://)(www.)?\" +\n",
    "           \"[a-zA-Z0-9@:%._\\\\+~#?&//=]\" +\n",
    "           \"{2,256}\\\\.[a-z]\" +\n",
    "           \"{2,6}\\\\b([-a-zA-Z0-9@:%\" +\n",
    "           \"._\\\\+~#?&//=]*)\")\n",
    "Pattern_1 = re.compile(regex_1)"
   ]
  },
  {
   "cell_type": "markdown",
   "id": "47b1e91a",
   "metadata": {},
   "source": [
    "### Step #3:\n",
    "* Function for checking **User's** input data like **Username**, **Name**, **Age**, **Email**, **Phone**, and **Website**, whether valid or not."
   ]
  },
  {
   "cell_type": "code",
   "execution_count": null,
   "id": "1298913c",
   "metadata": {},
   "outputs": [],
   "source": [
    "def check_form(data):\n",
    "    if data['name'].isdigit():\n",
    "        return ('name', 'Invalid name!')\n",
    "    if data['username'].isdigit():\n",
    "        return ('username', 'Invalid username!')\n",
    "    if data['age'] <= 0:\n",
    "        return ('age', 'Invalid age!')\n",
    "    if not (re.search(regex, data['email'])):\n",
    "        return ('email', 'Invalid email!')\n",
    "    if not (Pattern.match(str(data['phone']))) or len(str(data['phone'])) != 10:\n",
    "        return ('phone', 'Invalid phone!')\n",
    "    if not re.search(Pattern_1, data['website']):\n",
    "        return ('website', 'Invalid URL!')"
   ]
  },
  {
   "cell_type": "markdown",
   "id": "8310316c",
   "metadata": {},
   "source": [
    "### Step #4:\n",
    "* To return the definition of the word(entered by user).\n",
    "* This function will give an appropriate message, if the word doesn't exist in the data.\n",
    "* If user will enter a word with wrong spelling, then we have to give an appropriate message using **get_close_matches()** function.\n"
   ]
  },
  {
   "cell_type": "code",
   "execution_count": null,
   "id": "60b49272",
   "metadata": {},
   "outputs": [],
   "source": [
    "def Check(word):\n",
    "    if word.lower() in book:\n",
    "        return book[word.lower()], None\n",
    "    elif word.title() in book:\n",
    "        return book[word.title()], None\n",
    "    elif word.upper() in book:\n",
    "        return book[word.upper()], None\n",
    "    elif len(get_close_matches(word, book.keys())) > 0:\n",
    "        return book[get_close_matches(word, book.keys())[0]], 1\n",
    "    else:\n",
    "        return None, 2"
   ]
  },
  {
   "cell_type": "markdown",
   "id": "19e9c55b",
   "metadata": {},
   "source": [
    "### Step #5:\n",
    "* Taking user input, here **required=True** means field can't be empty."
   ]
  },
  {
   "cell_type": "code",
   "execution_count": null,
   "id": "4c59277a",
   "metadata": {},
   "outputs": [],
   "source": [
    "word = input(\"What word do you want to look up?\", required=True)\n",
    "tran, res = Check(word)\n",
    "Res = type(tran) # Store the type of tran whether list or not."
   ]
  },
  {
   "cell_type": "markdown",
   "id": "7415ca59",
   "metadata": {},
   "source": [
    "### Step #6:\n",
    "* Checking following condtions:\n",
    "     * If **res is 1**, that means user has entered the wrong word, then it will display the meaning of most close word to the user input.\n",
    "     * If **res is 2**, that means no word found.\n",
    "     * If **res is None**, that means word found, and then it will display the meaning of the word."
   ]
  },
  {
   "cell_type": "code",
   "execution_count": null,
   "id": "9f2002c1",
   "metadata": {},
   "outputs": [],
   "source": [
    "if Res == list:\n",
    "            if res == 1:\n",
    "                put_warning(\"Error! word not found\", closable=True)\n",
    "                time.sleep(3)\n",
    "                clear()\n",
    "                for i in tran:\n",
    "                    popup(f\"Showing result for {get_close_matches(word, book.keys())[0].capitalize()}\",\n",
    "                          [put_html(\"<ol>\"f\"{i}\"\"</ol>\"), put_buttons(\n",
    "                              ['Close'], onclick=lambda _: close_popup())])\n",
    "                    break\n",
    "            elif res == 2:\n",
    "                put_error(\"No definitions found for this word, Try searching...\")\n",
    "                time.sleep(3)\n",
    "                clear()\n",
    "                break\n",
    "            elif res == None:\n",
    "                put_success(\"Wow, word found\")\n",
    "                time.sleep(3)\n",
    "                clear()\n",
    "                for i in tran:\n",
    "                    popup(f\"{word.capitalize()}\", [put_html(\"<ol>\"f\"{i}\"\"</ol>\"), put_buttons(\n",
    "                        ['Close'], onclick=lambda _: close_popup())])\n",
    "                    break"
   ]
  },
  {
   "cell_type": "markdown",
   "id": "61db3f53",
   "metadata": {},
   "source": [
    "* If user want to search for a word again, then display a choice.\n",
    "     * If choice is **Yes**, then search again."
   ]
  },
  {
   "cell_type": "code",
   "execution_count": null,
   "id": "230d89ae",
   "metadata": {},
   "outputs": [],
   "source": [
    "a = radio(\"Do you want to search again?\",\n",
    "                  options=['Yes', 'No'], required=True)"
   ]
  },
  {
   "cell_type": "markdown",
   "id": "074a45fe",
   "metadata": {},
   "source": [
    "   * **Otherwise** display a **FORM** for **User's** details."
   ]
  },
  {
   "cell_type": "code",
   "execution_count": null,
   "id": "1924b1ba",
   "metadata": {},
   "outputs": [],
   "source": [
    "data = input_group(\"Fill out the form:\", [\n",
    "                input('Username', name='username', type=TEXT, required=True, PlaceHolder=\"@username\"), input(\n",
    "                    'Name', name='name', type=TEXT, required=True, PlaceHolder=\"name\"), input(\n",
    "                    'Phone', name='phone', type=NUMBER, required=True, PlaceHolder=\"12345\"), input(\n",
    "                    'Email', name='email', type=TEXT, required=True, PlaceHolder=\"user@gmail.com\"),\n",
    "                input('Age', name='age', type=NUMBER, required=True, PlaceHolder=\"age\"), input(\n",
    "                    'Portfolio website', name='website', type=TEXT, required=True, PlaceHolder=\"www.XYZ.com\")\n",
    "            ], validate=check_form, cancelable=True)\n",
    "\n",
    "gender = radio(\"Gender\", options=['Male', 'Female'], required=True)\n",
    "skills = select(\"Tech Stack\", options=['C Programming', 'Python', 'Web Development', 'Android Development'], required=True)\n",
    "text = textarea(\"Comments/Questions\", rows=3, placeholder=\"Write something...\", required=True)\n",
    "agree = checkbox(\"Agreement\", options=['I agree to terms and conditions'], required=True)"
   ]
  },
  {
   "cell_type": "markdown",
   "id": "7104ef85",
   "metadata": {},
   "source": [
    "### Step #7:\n",
    "* First, we know the **current working directory**(whole path), then **Python file name** in which we are currently working upon.\n",
    "* We will make a file with the same name as python file name.\n",
    "* If Text File found,  then clear all the data of the file and write the new data of user."
   ]
  },
  {
   "cell_type": "code",
   "execution_count": null,
   "id": "653cd732",
   "metadata": {},
   "outputs": [],
   "source": [
    "paths = os.path.dirname(__file__)\n",
    "base = os.path.basename(__file__)\n",
    "\n",
    "if os.path.isfile(r\"\"f\"{paths}\\{base[:-3]}.txt\"\"\"):\n",
    "                f = open(r\"\"f\"{paths}\\{base[:-3]}.txt\"\"\", 'r+')\n",
    "                f.seek(0)\n",
    "                f.truncate()\n",
    "                \n",
    "file_1 = open(r\"\"f\"{paths}\\{base[:-3]}.txt\"\"\", mode='a')\n",
    "\n",
    "file_1.write(f\"Username: @{data['username']}\\nName: {data['name']}\\nPhone: {str(data['phone'])}\\nEmail: {data['email']}\\nAge: {str(data['age'])}\\\n",
    "            \\nWebsite: {data['website']}\\nGender: {gender}\\nSkill: {skills}\\nComments: {text}\")\n",
    "\n",
    "file_1.close()"
   ]
  },
  {
   "cell_type": "markdown",
   "id": "ba296b56",
   "metadata": {},
   "source": [
    "# Complete Code:"
   ]
  },
  {
   "cell_type": "code",
   "execution_count": null,
   "id": "e3bef28b",
   "metadata": {},
   "outputs": [],
   "source": [
    "from difflib import get_close_matches\n",
    "import json\n",
    "import os\n",
    "import os.path\n",
    "import time\n",
    "import re\n",
    "from pywebio.input import *\n",
    "from pywebio.output import *\n",
    "from pywebio.session import *\n",
    "\n",
    "book = json.load(open(r\"C:\\Users\\Dell\\Downloads\\ebooks.json\"))\n",
    "\n",
    "regex = '^(\\w|\\.|\\_|\\-)+[@](\\w|\\_|\\-|\\.)+[.]\\w{2,3}$'\n",
    "\n",
    "Pattern = re.compile(\"(0/91)?[6-9][0-9]{9}\")\n",
    "regex_1 = (\"((http|https)://)(www.)?\" +\n",
    "           \"[a-zA-Z0-9@:%._\\\\+~#?&//=]\" +\n",
    "           \"{2,256}\\\\.[a-z]\" +\n",
    "           \"{2,6}\\\\b([-a-zA-Z0-9@:%\" +\n",
    "           \"._\\\\+~#?&//=]*)\")\n",
    "Pattern_1 = re.compile(regex_1)\n",
    "\n",
    "\n",
    "def check_form(data):\n",
    "    if data['name'].isdigit():\n",
    "        return ('name', 'Invalid name!')\n",
    "    if data['username'].isdigit():\n",
    "        return ('username', 'Invalid username!')\n",
    "    if data['age'] <= 0:\n",
    "        return ('age', 'Invalid age!')\n",
    "    if not (re.search(regex, data['email'])):\n",
    "        return ('email', 'Invalid email!')\n",
    "    if not (Pattern.match(str(data['phone']))) or len(str(data['phone'])) != 10:\n",
    "        return ('phone', 'Invalid phone!')\n",
    "    if not re.search(Pattern_1, data['website']):\n",
    "        return ('website', 'Invalid URL!')\n",
    "\n",
    "\n",
    "def Check(word):\n",
    "    if word.lower() in book:\n",
    "        return book[word.lower()], None\n",
    "    elif word.title() in book:\n",
    "        return book[word.title()], None\n",
    "    elif word.upper() in book:\n",
    "        return book[word.upper()], None\n",
    "    elif len(get_close_matches(word, book.keys())) > 0:\n",
    "        return book[get_close_matches(word, book.keys())[0]], 1\n",
    "    else:\n",
    "        return None, 2\n",
    "\n",
    "\n",
    "if __name__ == '__main__':\n",
    "    toast('WORD MEANING DICTIONARY', position='center',\n",
    "          color='#A09876', duration=3, onclick=clear)\n",
    "    time.sleep(3)\n",
    "    while 1:\n",
    "        word = input(\"What word do you want to look up?\",\n",
    "                     required=True)\n",
    "        tran, res = Check(word)\n",
    "        Res = type(tran)\n",
    "        clear()\n",
    "        if Res == list:\n",
    "            if res == 1:\n",
    "                put_warning(\"Error! word not found\", closable=True)\n",
    "                time.sleep(3)\n",
    "                clear()\n",
    "                for i in tran:\n",
    "                    popup(f\"Showing result for {get_close_matches(word, book.keys())[0].capitalize()}\",\n",
    "                          [put_html(\"<ol>\"f\"{i}\"\"</ol>\"), put_buttons(\n",
    "                              ['Close'], onclick=lambda _: close_popup())])\n",
    "                    break\n",
    "            elif res == 2:\n",
    "                put_error(\"No definitions found for this word, Try searching...\")\n",
    "                time.sleep(3)\n",
    "                clear()\n",
    "                break\n",
    "            elif res == None:\n",
    "                put_success(\"Wow, word found\")\n",
    "                time.sleep(3)\n",
    "                clear()\n",
    "                for i in tran:\n",
    "                    popup(f\"{word.capitalize()}\", [put_html(\"<ol>\"f\"{i}\"\"</ol>\"), put_buttons(\n",
    "                        ['Close'], onclick=lambda _: close_popup())])\n",
    "                    break\n",
    "\n",
    "        else:\n",
    "            put_error(\"No definitions found for this word, Try searching...\")\n",
    "            time.sleep(3)\n",
    "            clear()\n",
    "\n",
    "        a = radio(\"Do you want to search again?\",\n",
    "                  options=['Yes', 'No'], required=True)\n",
    "        if a == 'Yes':\n",
    "            continue\n",
    "        else:\n",
    "            data = input_group(\"Fill out the form:\", [\n",
    "                input('Username', name='username', type=TEXT, required=True, PlaceHolder=\"@username\"), input(\n",
    "                    'Name', name='name', type=TEXT, required=True, PlaceHolder=\"name\"), input(\n",
    "                    'Phone', name='phone', type=NUMBER, required=True, PlaceHolder=\"12345\"), input(\n",
    "                    'Email', name='email', type=TEXT, required=True, PlaceHolder=\"user@gmail.com\"),\n",
    "                input('Age', name='age', type=NUMBER, required=True, PlaceHolder=\"age\"), input(\n",
    "                    'Portfolio website', name='website', type=TEXT, required=True, PlaceHolder=\"www.XYZ.com\")\n",
    "            ], validate=check_form, cancelable=True)\n",
    "            gender = radio(\"Gender\", options=['Male', 'Female'], required=True)\n",
    "            skills = select(\"Tech Stack\", options=[\n",
    "                            'C Programming', 'Python', 'Web Development', 'Android Development'], required=True)\n",
    "            text = textarea(\"Comments/Questions\", rows=3,\n",
    "                            placeholder=\"Write something...\", required=True)\n",
    "            agree = checkbox(\"Agreement\", options=[\n",
    "                'I agree to terms and conditions'], required=True)\n",
    "            paths = os.path.dirname(__file__)\n",
    "            base = os.path.basename(__file__)\n",
    "            if os.path.isfile(r\"\"f\"{paths}\\{base[:-3]}.txt\"\"\"):\n",
    "                f = open(r\"\"f\"{paths}\\{base[:-3]}.txt\"\"\", 'r+')\n",
    "                f.seek(0)\n",
    "                f.truncate()\n",
    "            file_1 = open(r\"\"f\"{paths}\\{base[:-3]}.txt\"\"\", mode='a')\n",
    "            file_1.write(\n",
    "                f\"Username: @{data['username']}\\nName: {data['name']}\\nPhone: {str(data['phone'])}\\nEmail: {data['email']}\\nAge: {str(data['age'])}\\\n",
    "            \\nWebsite: {data['website']}\\nGender: {gender}\\nSkill: {skills}\\nComments: {text}\")\n",
    "            file_1.close()\n",
    "            toast(\"Thanks a lot!\")\n",
    "            exit()\n"
   ]
  },
  {
   "cell_type": "markdown",
   "id": "07b8afbf",
   "metadata": {},
   "source": [
    "## Happy coding!\n",
    "\n",
    "____________________________\n",
    "<p><b>&copy;</b> 2021 Satyam Tripathi</p>"
   ]
  }
 ],
 "metadata": {
  "kernelspec": {
   "display_name": "Python 3",
   "language": "python",
   "name": "python3"
  },
  "language_info": {
   "codemirror_mode": {
    "name": "ipython",
    "version": 3
   },
   "file_extension": ".py",
   "mimetype": "text/x-python",
   "name": "python",
   "nbconvert_exporter": "python",
   "pygments_lexer": "ipython3",
   "version": "3.8.3"
  }
 },
 "nbformat": 4,
 "nbformat_minor": 5
}
